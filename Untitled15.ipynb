{
 "cells": [
  {
   "cell_type": "code",
   "execution_count": 1,
   "id": "27a071dc",
   "metadata": {},
   "outputs": [
    {
     "name": "stdout",
     "output_type": "stream",
     "text": [
      "Enter a string:\"5678abcd\"\n",
      "Reversed string: \"dcba8765\"\n"
     ]
    }
   ],
   "source": [
    "##Write a Python program to reverse a string.\n",
    "\n",
    "def reverse_string(input_string):\n",
    "    reversed_string=input_string[::-1]\n",
    "    return reversed_string\n",
    "user_input=input(\"Enter a string:\")\n",
    "reversed_result=reverse_string(user_input)\n",
    "print(\"Reversed string:\",reversed_result)"
   ]
  }
 ],
 "metadata": {
  "kernelspec": {
   "display_name": "Python 3 (ipykernel)",
   "language": "python",
   "name": "python3"
  },
  "language_info": {
   "codemirror_mode": {
    "name": "ipython",
    "version": 3
   },
   "file_extension": ".py",
   "mimetype": "text/x-python",
   "name": "python",
   "nbconvert_exporter": "python",
   "pygments_lexer": "ipython3",
   "version": "3.10.9"
  }
 },
 "nbformat": 4,
 "nbformat_minor": 5
}
