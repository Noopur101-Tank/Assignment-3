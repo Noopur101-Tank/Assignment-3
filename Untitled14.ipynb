{
 "cells": [
  {
   "cell_type": "code",
   "execution_count": 17,
   "id": "6a37fd82",
   "metadata": {},
   "outputs": [
    {
     "name": "stdout",
     "output_type": "stream",
     "text": [
      "Enter a list of numbers separated by spaces:5,2,0,7,6\n",
      "Sum: 20\n"
     ]
    }
   ],
   "source": [
    "## Write a Python function to sum all the numbers in a list.\n",
    "\n",
    "def sum_list_numbers(numbers):\n",
    "    total=sum(numbers)\n",
    "    return total\n",
    "user_input=input(\"Enter a list of numbers separated by spaces:\")\n",
    "user_input_list=list(map(int,user_input.split(\",\")))    \n",
    "result=sum_list_numbers(user_input_list)\n",
    "print(\"Sum:\",result)"
   ]
  }
 ],
 "metadata": {
  "kernelspec": {
   "display_name": "Python 3 (ipykernel)",
   "language": "python",
   "name": "python3"
  },
  "language_info": {
   "codemirror_mode": {
    "name": "ipython",
    "version": 3
   },
   "file_extension": ".py",
   "mimetype": "text/x-python",
   "name": "python",
   "nbconvert_exporter": "python",
   "pygments_lexer": "ipython3",
   "version": "3.10.9"
  }
 },
 "nbformat": 4,
 "nbformat_minor": 5
}
