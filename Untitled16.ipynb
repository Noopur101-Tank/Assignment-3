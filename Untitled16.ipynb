{
 "cells": [
  {
   "cell_type": "code",
   "execution_count": 2,
   "id": "6d284b6a",
   "metadata": {},
   "outputs": [
    {
     "name": "stdout",
     "output_type": "stream",
     "text": [
      "Enter a string:This is Python Book\n",
      "Uppercase count: 3\n",
      "lowercase count: 13\n"
     ]
    }
   ],
   "source": [
    "##Write a Python function that accepts a string and calculate the number of upper case letters and lower case letters.\n",
    "\n",
    "def count_case_letters(input_string):\n",
    "    uppercase_count=0\n",
    "    lowercase_count=0\n",
    "    for char in input_string:\n",
    "        if char.isupper():\n",
    "            uppercase_count+=1\n",
    "        elif char.islower():\n",
    "            lowercase_count+=1\n",
    "    return uppercase_count,lowercase_count\n",
    "user_input=input(\"Enter a string:\")\n",
    "upper_count,lower_count=count_case_letters(user_input)\n",
    "print(\"Uppercase count:\",upper_count)\n",
    "print(\"lowercase count:\",lower_count)\n"
   ]
  }
 ],
 "metadata": {
  "kernelspec": {
   "display_name": "Python 3 (ipykernel)",
   "language": "python",
   "name": "python3"
  },
  "language_info": {
   "codemirror_mode": {
    "name": "ipython",
    "version": 3
   },
   "file_extension": ".py",
   "mimetype": "text/x-python",
   "name": "python",
   "nbconvert_exporter": "python",
   "pygments_lexer": "ipython3",
   "version": "3.10.9"
  }
 },
 "nbformat": 4,
 "nbformat_minor": 5
}
